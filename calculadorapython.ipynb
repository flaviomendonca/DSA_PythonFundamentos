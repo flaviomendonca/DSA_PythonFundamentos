{
 "cells": [
  {
   "cell_type": "code",
   "execution_count": 3,
   "id": "c2117fee",
   "metadata": {},
   "outputs": [
    {
     "name": "stdout",
     "output_type": "stream",
     "text": [
      "\n",
      "****************CALCULADORA EM PYTHON***********************\n",
      "Selecione uma das Operaçôes\n",
      "1- Soma\n",
      "2- Subtração\n",
      "3- Multiplicação\n",
      "4- Divisão\n",
      "Digite sua operação: 6\n",
      "Digite o primeiro número: 6\n",
      "Digite o segundo número: 6\n",
      "Digite uma operação válida!\n"
     ]
    }
   ],
   "source": [
    "#Calculadora em Python\n",
    "print(\"\\n****************CALCULADORA EM PYTHON***********************\")\n",
    "\n",
    "print(\"Selecione uma das Operaçôes\")\n",
    "print(\"1- Soma\")\n",
    "print(\"2- Subtração\")\n",
    "print(\"3- Multiplicação\")\n",
    "print(\"4- Divisão\")\n",
    "\n",
    "operacao = input(\"Digite sua operação: \")\n",
    "primeiNum = int(input(\"Digite o primeiro número: \"))\n",
    "segundoNum = int(input(\"Digite o segundo número: \"))\n",
    "\n",
    "if operacao == '1':\n",
    "    resultado = primeiNum + segundoNum\n",
    "    print('%s + %r = %x' %(primeiNum, segundoNum, resultado))\n",
    "elif operacao == '2':\n",
    "    resultado = primeiNum - segundoNum\n",
    "    print('%s - %r = %x' %(primeiNum, segundoNum, resultado))\n",
    "elif operacao == '3':\n",
    "    resultado = primeiNum * segundoNum\n",
    "    print('%s * %r = %x' %(primeiNum, segundoNum, resultado))\n",
    "elif operacao == '4':\n",
    "    resultado = primeiNum / segundoNum\n",
    "    print('%s / %r = %x' %(primeiNum, segundoNum, resultado))\n",
    "else:\n",
    "    print(\"Digite uma operação válida!\")"
   ]
  }
 ],
 "metadata": {
  "kernelspec": {
   "display_name": "Python 3",
   "language": "python",
   "name": "python3"
  },
  "language_info": {
   "codemirror_mode": {
    "name": "ipython",
    "version": 3
   },
   "file_extension": ".py",
   "mimetype": "text/x-python",
   "name": "python",
   "nbconvert_exporter": "python",
   "pygments_lexer": "ipython3",
   "version": "3.8.8"
  }
 },
 "nbformat": 4,
 "nbformat_minor": 5
}
